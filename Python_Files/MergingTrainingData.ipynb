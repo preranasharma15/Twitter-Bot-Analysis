{
 "cells": [
  {
   "cell_type": "code",
   "execution_count": 1,
   "metadata": {
    "collapsed": true
   },
   "outputs": [],
   "source": [
    "import numpy as np\n",
    "import pandas as pd\n",
    "import csv"
   ]
  },
  {
   "cell_type": "code",
   "execution_count": 2,
   "metadata": {
    "collapsed": true
   },
   "outputs": [],
   "source": [
    "#importing csv data\n",
    "\n",
    "content_data = pd.read_csv(r'C:\\Users\\prera\\Downloads\\Twitter Bot Analysis\\Training_Data_Files\\Content_Data.csv', delimiter='\\t')\n",
    "graph_data = pd.read_csv(r'C:\\Users\\prera\\Downloads\\Twitter Bot Analysis\\Training_Data_Files\\Graph_Data.csv')\n"
   ]
  },
  {
   "cell_type": "code",
   "execution_count": 3,
   "metadata": {},
   "outputs": [
    {
     "name": "stdout",
     "output_type": "stream",
     "text": [
      "(638, 5)\n",
      "(663, 11)\n",
      "(663, 16)\n"
     ]
    }
   ],
   "source": [
    "#removing non-existent accounts\n",
    "\n",
    "print(content_data.shape)\n",
    "print(graph_data.shape)\n",
    "content_id = content_data.iloc[:, 0].values\n",
    "\n",
    "graph_id = graph_data.iloc[:, 0].values\n",
    "super_data = pd.concat([content_data, graph_data], axis = 1)\n",
    "print(super_data.shape)\n",
    "# for col in super_data.columns : \n",
    "#     print(col)\n",
    "super_data.dropna(subset = [\"URLs\"], inplace=True)\n"
   ]
  },
  {
   "cell_type": "code",
   "execution_count": 4,
   "metadata": {},
   "outputs": [],
   "source": [
    "#merging graph & content data\n",
    "\n",
    "Ids = super_data.iloc[:, 0].values\n",
    "\n",
    "Friends = super_data.iloc[:, 10].values\n",
    "\n",
    "Followers = super_data.iloc[:, 9].values\n",
    "\n",
    "Label = super_data.iloc[:, 4].values\n",
    "\n",
    "Url = super_data.iloc[:, 2].values\n",
    "\n",
    "Total_tweets =  super_data.iloc[:, 1].values\n",
    "\n",
    "User_mentions  = super_data.iloc[:, 3].values\n",
    "\n",
    "final_content_data = (np.array((Ids, Friends), order='F').T)\n",
    "final_content_data = np.hstack((final_content_data, Followers.reshape(Ids.shape[0],1)))\n",
    "\n",
    "rf = final_content_data[:, 2]/ (final_content_data[:, 2] + final_content_data[:, 1])\n",
    "\n",
    "final_content_data = np.hstack(( final_content_data,rf.reshape(Ids.shape[0],1)))\n",
    "\n",
    "Url = Url/Total_tweets\n",
    "User_mentions = User_mentions/ Total_tweets\n",
    "\n",
    "final_content_data = np.hstack(( final_content_data,Url.reshape(Ids.shape[0],1)))\n",
    "final_content_data = np.hstack(( final_content_data,User_mentions.reshape(Ids.shape[0],1)))\n",
    "final_content_data = np.hstack(( final_content_data,Label.reshape(Ids.shape[0],1)))\n"
   ]
  },
  {
   "cell_type": "code",
   "execution_count": 5,
   "metadata": {
    "collapsed": true
   },
   "outputs": [],
   "source": [
    "#saving merged data in file 'Training_Data.csv'\n",
    "\n",
    "with open('Training_Data.csv', 'w') as f:\n",
    "    writer = csv.writer(f , lineterminator='\\n')\n",
    "    for tup in final_content_data:\n",
    "        writer.writerow(tup)\n",
    "        \n",
    "#------------END------------------------------------"
   ]
  },
  {
   "cell_type": "code",
   "execution_count": 6,
   "metadata": {},
   "outputs": [],
   "source": [
    "#was trying to format previous data from tweets - did not work out\n",
    "# print(content_data.shape)\n",
    "# for user in  range(content_data.shape[0]):\n",
    "#     user_list = content_data.iloc[user, 1].replace('\"','').split('],')\n",
    "#     print (user,\" :    \",user_list[0])\n",
    "#     print (user,\" :    \",user_list[1])\n",
    "#     print()\n",
    "\n",
    "# for i in range(0,len(content_list)): \n",
    "#     print (i,\"    \",content_list[i])\n",
    "#     print()\n",
    "\n"
   ]
  }
 ],
 "metadata": {
  "kernelspec": {
   "display_name": "Python 3",
   "language": "python",
   "name": "python3"
  },
  "language_info": {
   "codemirror_mode": {
    "name": "ipython",
    "version": 3
   },
   "file_extension": ".py",
   "mimetype": "text/x-python",
   "name": "python",
   "nbconvert_exporter": "python",
   "pygments_lexer": "ipython3",
   "version": "3.13.2"
  }
 },
 "nbformat": 4,
 "nbformat_minor": 2
}
